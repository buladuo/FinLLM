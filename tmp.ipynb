{
 "cells": [
  {
   "cell_type": "code",
   "execution_count": 1,
   "metadata": {},
   "outputs": [],
   "source": [
    "from services.llm_client import LLMServiceFactory\n",
    "from services.db_client import DBClient\n",
    "from utils.logging_utils import LoggingUtils\n",
    "from core.prompt_manager import PromptManager\n",
    "\n",
    "from paths import CONFIG_PATH,PROMPTS_PATH\n",
    "\n",
    "import yaml"
   ]
  },
  {
   "cell_type": "code",
   "execution_count": 2,
   "metadata": {},
   "outputs": [
    {
     "ename": "TypeError",
     "evalue": "PromptManager.__init__() missing 1 required positional argument: 'directory_path'",
     "output_type": "error",
     "traceback": [
      "\u001b[0;31m---------------------------------------------------------------------------\u001b[0m",
      "\u001b[0;31mTypeError\u001b[0m                                 Traceback (most recent call last)",
      "Cell \u001b[0;32mIn[2], line 8\u001b[0m\n\u001b[1;32m      5\u001b[0m logging_config \u001b[38;5;241m=\u001b[39m config\u001b[38;5;241m.\u001b[39mget(\u001b[38;5;124m\"\u001b[39m\u001b[38;5;124mlogging\u001b[39m\u001b[38;5;124m\"\u001b[39m, {})\n\u001b[1;32m      6\u001b[0m LoggingUtils\u001b[38;5;241m.\u001b[39msetup_logging(logging_config)\n\u001b[0;32m----> 8\u001b[0m manager \u001b[38;5;241m=\u001b[39m \u001b[43mPromptManager\u001b[49m\u001b[43m(\u001b[49m\u001b[43m)\u001b[49m  \u001b[38;5;66;03m# 指定存储路径\u001b[39;00m\n\u001b[1;32m     10\u001b[0m question \u001b[38;5;241m=\u001b[39m \u001b[38;5;124m\"\u001b[39m\u001b[38;5;124m哪些股票股价大于75，且同时当天创一年新高的是？\u001b[39m\u001b[38;5;124m\"\u001b[39m\n\u001b[1;32m     11\u001b[0m prompt \u001b[38;5;241m=\u001b[39m manager\u001b[38;5;241m.\u001b[39mget_prompt(\u001b[38;5;124m'\u001b[39m\u001b[38;5;124mdb_cls\u001b[39m\u001b[38;5;124m'\u001b[39m)[\u001b[38;5;124m'\u001b[39m\u001b[38;5;124mcontent\u001b[39m\u001b[38;5;124m'\u001b[39m]\n",
      "\u001b[0;31mTypeError\u001b[0m: PromptManager.__init__() missing 1 required positional argument: 'directory_path'"
     ]
    }
   ],
   "source": [
    "config_path = CONFIG_PATH\n",
    "with open(config_path, \"r\") as file:\n",
    "    config = yaml.safe_load(file)\n",
    "\n",
    "logging_config = config.get(\"logging\", {})\n",
    "LoggingUtils.setup_logging(logging_config)\n",
    "\n",
    "manager = PromptManager()  # 指定存储路径\n",
    "\n",
    "question = \"哪些股票股价大于75，且同时当天创一年新高的是？\"\n",
    "prompt = manager.get_prompt('db_cls')['content']\n",
    "\n",
    "prompt_with_question = prompt.replace('{question}', question)\n",
    "\n",
    "# 将prompt里面的{question}替换成为真实的数据\n",
    "\n",
    "models_config = config[\"models\"]\n",
    "\n",
    "# 测试每个模型\n",
    "for model_name, model_config in models_config.items():\n",
    "    print(f\"\\n测试模型: {model_name}\")\n",
    "    service = LLMServiceFactory.create_service(model_config)\n",
    "    response = service.query(prompt_with_question)\n",
    "    print(f\"模型回复: {response}\")"
   ]
  }
 ],
 "metadata": {
  "kernelspec": {
   "display_name": "finllm",
   "language": "python",
   "name": "python3"
  },
  "language_info": {
   "codemirror_mode": {
    "name": "ipython",
    "version": 3
   },
   "file_extension": ".py",
   "mimetype": "text/x-python",
   "name": "python",
   "nbconvert_exporter": "python",
   "pygments_lexer": "ipython3",
   "version": "3.10.16"
  }
 },
 "nbformat": 4,
 "nbformat_minor": 2
}
